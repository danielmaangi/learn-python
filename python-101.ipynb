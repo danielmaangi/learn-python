{
 "cells": [
  {
   "cell_type": "markdown",
   "id": "1bcf36f6",
   "metadata": {},
   "source": [
    "Convert an integer to decimals"
   ]
  },
  {
   "cell_type": "code",
   "execution_count": 1,
   "id": "1032cc86",
   "metadata": {},
   "outputs": [
    {
     "name": "stdout",
     "output_type": "stream",
     "text": [
      "10.0\n",
      "10\n",
      "<class 'decimal.Decimal'>\n"
     ]
    }
   ],
   "source": [
    "# When you want to convert an integer to a decimal in Python, you can use the built-in float() function or the decimal module for more precision.\n",
    "# Example of converting an integer to a decimal using float()\n",
    "integer = 10\n",
    "decimal_integer = float(integer) # Convert integer to float\n",
    "# Print the decimal integer\n",
    "print(decimal_integer)  # Output: 10.0\n",
    "\n",
    "# Alternatively, you can use the decimal module for more precision\n",
    "from decimal import Decimal\n",
    "# Convert integer to Decimal\n",
    "decimal_integer = Decimal(integer)\n",
    "# Print the decimal integer\n",
    "print(decimal_integer)  # Output: 10\n",
    "print(type(decimal_integer))  # Output: <class 'decimal.Decimal'>"
   ]
  },
  {
   "cell_type": "code",
   "execution_count": 2,
   "id": "fc944090",
   "metadata": {},
   "outputs": [
    {
     "name": "stdout",
     "output_type": "stream",
     "text": [
      "0.30000000000000004\n",
      "0.3\n"
     ]
    }
   ],
   "source": [
    "print(0.1 + 0.2)\n",
    "from decimal import Decimal\n",
    "# Create Decimal objects\n",
    "decimal_0_1 = Decimal('0.1')\n",
    "decimal_0_2 = Decimal('0.2')\n",
    "# Add them\n",
    "result = decimal_0_1 + decimal_0_2    \n",
    "# Print the result \n",
    "print(result)  # Output: 0.3\n",
    "# The decimal module provides support for fast correctly-rounded decimal floating point arithmetic.\n",
    "# It offers several advantages over the float type, including:\n",
    "# 1. Exact representation of decimal numbers: Decimal can represent numbers like 0.1 and 0.2 exactly, while float cannot.\n",
    "# 2. Arbitrary precision: Decimal can represent numbers with a large number of digits, while float has a fixed precision.\n",
    "# 3. Control over rounding: Decimal allows you to specify the rounding method, while float uses the default rounding method.\n",
    "# 4. Avoiding floating-point errors: Decimal can help avoid common floating-point errors that occur with float arithmetic."
   ]
  },
  {
   "cell_type": "code",
   "execution_count": null,
   "id": "39b3eba3",
   "metadata": {},
   "outputs": [],
   "source": []
  }
 ],
 "metadata": {
  "kernelspec": {
   "display_name": "learn-python",
   "language": "python",
   "name": "python3"
  },
  "language_info": {
   "codemirror_mode": {
    "name": "ipython",
    "version": 3
   },
   "file_extension": ".py",
   "mimetype": "text/x-python",
   "name": "python",
   "nbconvert_exporter": "python",
   "pygments_lexer": "ipython3",
   "version": "3.12.9"
  }
 },
 "nbformat": 4,
 "nbformat_minor": 5
}
