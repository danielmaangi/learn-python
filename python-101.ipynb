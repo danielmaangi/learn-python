{
 "cells": [
  {
   "cell_type": "markdown",
   "id": "1bcf36f6",
   "metadata": {},
   "source": [
    "Convert an integer to decimals"
   ]
  },
  {
   "cell_type": "code",
   "execution_count": 1,
   "id": "1032cc86",
   "metadata": {},
   "outputs": [
    {
     "name": "stdout",
     "output_type": "stream",
     "text": [
      "10.0\n",
      "10\n",
      "<class 'decimal.Decimal'>\n"
     ]
    }
   ],
   "source": [
    "# When you want to convert an integer to a decimal in Python, you can use the built-in float() function or the decimal module for more precision.\n",
    "# Example of converting an integer to a decimal using float()\n",
    "integer = 10\n",
    "decimal_integer = float(integer) # Convert integer to float\n",
    "# Print the decimal integer\n",
    "print(decimal_integer)  # Output: 10.0\n",
    "\n",
    "# Alternatively, you can use the decimal module for more precision\n",
    "from decimal import Decimal\n",
    "# Convert integer to Decimal\n",
    "decimal_integer = Decimal(integer)\n",
    "# Print the decimal integer\n",
    "print(decimal_integer)  # Output: 10\n",
    "print(type(decimal_integer))  # Output: <class 'decimal.Decimal'>"
   ]
  },
  {
   "cell_type": "code",
   "execution_count": 2,
   "id": "fc944090",
   "metadata": {},
   "outputs": [
    {
     "name": "stdout",
     "output_type": "stream",
     "text": [
      "0.30000000000000004\n",
      "0.3\n"
     ]
    }
   ],
   "source": [
    "print(0.1 + 0.2)\n",
    "from decimal import Decimal\n",
    "# Create Decimal objects\n",
    "decimal_0_1 = Decimal('0.1')\n",
    "decimal_0_2 = Decimal('0.2')\n",
    "# Add them\n",
    "result = decimal_0_1 + decimal_0_2    \n",
    "# Print the result \n",
    "print(result)  # Output: 0.3\n",
    "# The decimal module provides support for fast correctly-rounded decimal floating point arithmetic.\n",
    "# It offers several advantages over the float type, including:\n",
    "# 1. Exact representation of decimal numbers: Decimal can represent numbers like 0.1 and 0.2 exactly, while float cannot.\n",
    "# 2. Arbitrary precision: Decimal can represent numbers with a large number of digits, while float has a fixed precision.\n",
    "# 3. Control over rounding: Decimal allows you to specify the rounding method, while float uses the default rounding method.\n",
    "# 4. Avoiding floating-point errors: Decimal can help avoid common floating-point errors that occur with float arithmetic."
   ]
  },
  {
   "cell_type": "code",
   "execution_count": null,
   "id": "39b3eba3",
   "metadata": {},
   "outputs": [
    {
     "name": "stdout",
     "output_type": "stream",
     "text": [
      "['1', '2', '3', '4', '5']\n",
      "[1.0, 2.0, 3.0, 4.0, 5.0]\n"
     ]
    }
   ],
   "source": [
    "# Converting a string of integers into decimals\n",
    "from decimal import Decimal\n",
    "# Create a list of strings representing integers\n",
    "string_integers = ['1', '2', '3', '4', '5']\n",
    "# Print the list of strings\n",
    "print(string_integers)  # Output: ['1', '2', '3', '4', '5']\n",
    "# Convert each string to a Decimal\n",
    "decimal_integers = [Decimal(s) for s in string_integers]\n",
    "# Print the list of Decimal integers\n",
    "print(decimal_integers)  # Output: [Decimal('1'), Decimal('2'), Decimal('3'), Decimal('4'), Decimal('5')]"
   ]
  },
  {
   "cell_type": "code",
   "execution_count": 6,
   "id": "52e87d8f",
   "metadata": {},
   "outputs": [
    {
     "name": "stdout",
     "output_type": "stream",
     "text": [
      "[1, 2, 3, 4, 5]\n",
      "[1.0, 2.0, 3.0, 4.0, 5.0]\n"
     ]
    }
   ],
   "source": [
    "# Converting from a list of integers to floats\n",
    "# Create a list of integers\n",
    "integers = [1, 2, 3, 4, 5]\n",
    "# Print the list of integers\n",
    "print(integers)  # Output: [1, 2, 3, 4, 5]\n",
    "# Convert each integer to a float\n",
    "float_integers = [float(i) for i in integers]\n",
    "# Print the list of float integers\n",
    "print(float_integers)  # Output: [1.0, 2.0, 3.0, 4.0, 5.0]"
   ]
  },
  {
   "cell_type": "code",
   "execution_count": 14,
   "id": "58554ccc",
   "metadata": {},
   "outputs": [
    {
     "name": "stdout",
     "output_type": "stream",
     "text": [
      "   floats\n",
      "0     1.0\n",
      "1     2.1\n",
      "2     3.9\n",
      "3     4.0\n",
      "4     5.5\n",
      "                                              floats\n",
      "0                                                  1\n",
      "1  2.10000000000000008881784197001252323389053344...\n",
      "2  3.89999999999999991118215802998747676610946655...\n",
      "3                                                  4\n",
      "4                                                5.5\n"
     ]
    }
   ],
   "source": [
    "# Converting a dataframe column of floats to decimals\n",
    "import pandas as pd\n",
    "# Create a DataFrame with a column of floats\n",
    "data = {'floats': [1.0, 2.1, 3.9, 4.0, 5.5]}\n",
    "df = pd.DataFrame(data)\n",
    "# Print the DataFrame\n",
    "print(df) \n",
    "# Convert the 'floats' column to Decimal\n",
    "df['floats'] = df['floats'].apply(Decimal)\n",
    "# Print the DataFrame with Decimal floats\n",
    "print(df)"
   ]
  },
  {
   "cell_type": "code",
   "execution_count": 20,
   "id": "a379c704",
   "metadata": {},
   "outputs": [
    {
     "name": "stdout",
     "output_type": "stream",
     "text": [
      "Hello, Daniel Maangi!\n",
      "!ignaaM leinaD ,olleH\n"
     ]
    }
   ],
   "source": [
    "# Reversing a string using an extended slicing technique\n",
    "# Create a string\n",
    "string = \"Hello, Daniel Maangi!\"\n",
    "# Print the original string\n",
    "print(string)  \n",
    "# Reverse the string using extended slicing\n",
    "reversed_string = string[::-1]\n",
    "# Print the reversed string\n",
    "print(reversed_string)  # Output: !dlroW ,olleH\n",
    "# The extended slicing technique allows you to specify a step value, which can be negative to reverse the string.\n",
    "# The syntax for extended slicing is [start:stop:step], where:\n",
    "# - start is the starting index (default is 0)\n",
    "# - stop is the ending index (default is the end of the string)\n",
    "# - step is the step value (default is 1)\n",
    "# In the case of reversing a string, we set the step value to -1, which means we want to go through the string from the end to the beginning.\n",
    "# This is a simple and efficient way to reverse a string in Python.\n"
   ]
  },
  {
   "cell_type": "code",
   "execution_count": 29,
   "id": "1da24958",
   "metadata": {},
   "outputs": [
    {
     "name": "stdout",
     "output_type": "stream",
     "text": [
      "Hello, Daniel Maangi!\n",
      "['a', 'e', 'i', 'o', 'u', 'A', 'E', 'I', 'O', 'U']\n",
      "Number of vowels in Hello, Daniel Maangi!: 8\n"
     ]
    }
   ],
   "source": [
    "# Counting vowels in your name\n",
    "# Create a string\n",
    "name = \"Hello, Daniel Maangi!\"\n",
    "# Print the original name\n",
    "print(name)\n",
    "# Define a set of vowels\n",
    "vowels = ['a', 'e', 'i', 'o', 'u', 'A', 'E', 'I', 'O', 'U']\n",
    "print(vowels)  # Output: {'a', 'e', 'i', 'o', 'u', 'A', 'E', 'I', 'O', 'U'}\n",
    "\n",
    "# Initialize a counter\n",
    "count = 0\n",
    "# Iterate through each character in the name\n",
    "for char in name:\n",
    "    # Check if the character is a vowel\n",
    "    if char in vowels:\n",
    "        # Increment the counter\n",
    "        count += 1\n",
    "# Print the number of vowels\n",
    "print(f\"Number of vowels in {name}: {count}\")  "
   ]
  },
  {
   "cell_type": "code",
   "execution_count": null,
   "id": "a5c833fa",
   "metadata": {},
   "outputs": [
    {
     "name": "stdout",
     "output_type": "stream",
     "text": [
      "Number of occurences of ['a', 'i'] in Daniel Maangi: 5\n"
     ]
    }
   ],
   "source": [
    "# counting the number of occurence of characters in a string\n",
    "name = \"Daniel Maangi\"\n",
    "chars = ['a', 'i']\n",
    "# initialize counter\n",
    "count = 0\n",
    "# iterate through each character in the name\n",
    "for char in name:\n",
    "    # check if the character is in the list of characters\n",
    "    if char in chars:\n",
    "        # increment the counter\n",
    "        count += 1\n",
    "# print the number of occurences\n",
    "print(f\"Number of occurences of {chars} in {name}: {count}\")"
   ]
  },
  {
   "cell_type": "code",
   "execution_count": 45,
   "id": "24c4937d",
   "metadata": {},
   "outputs": [
    {
     "name": "stdout",
     "output_type": "stream",
     "text": [
      "Number of occurrences of characters in ['a', 'i'] in Daniel Maangi: 5\n"
     ]
    }
   ],
   "source": [
    "# Alternative way to count the number of occurrences of characters in a string\n",
    "name = \"Daniel Maangi\"\n",
    "chars = ['a', 'i']\n",
    "count = 0\n",
    "\n",
    "for char_from_chars in chars:  # Outer loop iterates through 'a' and then 'i'\n",
    "    for char_from_name in name:  # Inner loop iterates through each character in \"Daniel Maangi\"\n",
    "        if char_from_name == char_from_chars:\n",
    "            count += 1\n",
    "\n",
    "print(f\"Number of occurrences of characters in {chars} in {name}: {count}\")"
   ]
  },
  {
   "cell_type": "code",
   "execution_count": 48,
   "id": "87aa2c60",
   "metadata": {},
   "outputs": [
    {
     "name": "stdout",
     "output_type": "stream",
     "text": [
      "red\n",
      "green\n",
      "blue\n"
     ]
    }
   ],
   "source": [
    "colors = (\"red\", \"green\", \"blue\")\n",
    "for color in colors:\n",
    "    print(color)"
   ]
  },
  {
   "cell_type": "code",
   "execution_count": 47,
   "id": "8a6aaa7b",
   "metadata": {},
   "outputs": [
    {
     "name": "stdout",
     "output_type": "stream",
     "text": [
      "Index: 0, Fruit: apple\n",
      "Index: 1, Fruit: banana\n",
      "Index: 2, Fruit: cherry\n"
     ]
    }
   ],
   "source": [
    "fruits = [\"apple\", \"banana\", \"cherry\"] # List of fruits\n",
    "# Using enumerate to get the index and value of each fruit\n",
    "# Enumerate returns both the index and the value of each item in the list\n",
    "for index, fruit in enumerate(fruits):\n",
    "    print(f\"Index: {index}, Fruit: {fruit}\")"
   ]
  },
  {
   "cell_type": "code",
   "execution_count": 50,
   "id": "e01189fb",
   "metadata": {},
   "outputs": [
    {
     "name": "stdout",
     "output_type": "stream",
     "text": [
      "Fibonacci number at position 10 (recursive): 55\n"
     ]
    }
   ],
   "source": [
    "# The Fibonacci sequence is a series of numbers in which each number is the sum of the two preceding ones, \n",
    "# usually starting with 0 and 1.\n",
    "# The sequence commonly starts as follows: 0, 1, 1, 2, 3, 5, 8, 13, 21, 34, ...\n",
    "# The Fibonacci sequence can be defined using a recursive function or an iterative approach.\n",
    "# Here is an example of a recursive function to generate the Fibonacci sequence:\n",
    "def fibonacci_recursive(n):\n",
    "    if n <= 0:\n",
    "        return 0\n",
    "    elif n == 1:\n",
    "        return 1\n",
    "    else:\n",
    "        return fibonacci_recursive(n - 1) + fibonacci_recursive(n - 2)\n",
    "# Example usage\n",
    "n = 10\n",
    "print(f\"Fibonacci number at position {n} (recursive): {fibonacci_recursive(n)}\")  # Output: 55"
   ]
  }
 ],
 "metadata": {
  "kernelspec": {
   "display_name": "learn-python",
   "language": "python",
   "name": "python3"
  },
  "language_info": {
   "codemirror_mode": {
    "name": "ipython",
    "version": 3
   },
   "file_extension": ".py",
   "mimetype": "text/x-python",
   "name": "python",
   "nbconvert_exporter": "python",
   "pygments_lexer": "ipython3",
   "version": "3.12.9"
  }
 },
 "nbformat": 4,
 "nbformat_minor": 5
}
